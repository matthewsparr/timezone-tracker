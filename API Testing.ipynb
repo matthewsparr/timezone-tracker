{
 "cells": [
  {
   "cell_type": "code",
   "execution_count": 1,
   "metadata": {},
   "outputs": [],
   "source": [
    "import requests\n",
    "import json\n",
    "session = requests.Session() \n",
    "base_url = 'https://timezone-tracker-msparr.herokuapp.com/'"
   ]
  },
  {
   "cell_type": "markdown",
   "metadata": {},
   "source": [
    "Getting home page."
   ]
  },
  {
   "cell_type": "code",
   "execution_count": 2,
   "metadata": {},
   "outputs": [
    {
     "data": {
      "text/plain": [
       "<Response [200]>"
      ]
     },
     "execution_count": 2,
     "metadata": {},
     "output_type": "execute_result"
    }
   ],
   "source": [
    "session.get(base_url)"
   ]
  },
  {
   "cell_type": "markdown",
   "metadata": {},
   "source": [
    "Trying to get username when not logged in."
   ]
  },
  {
   "cell_type": "code",
   "execution_count": 3,
   "metadata": {},
   "outputs": [
    {
     "data": {
      "text/plain": [
       "{'error': 'Not logged in.', 'status': 'error'}"
      ]
     },
     "execution_count": 3,
     "metadata": {},
     "output_type": "execute_result"
    }
   ],
   "source": [
    "response = session.get(base_url + 'retrieveUsername')\n",
    "json.loads(response.text)"
   ]
  },
  {
   "cell_type": "markdown",
   "metadata": {},
   "source": [
    "Logging in with basic user account."
   ]
  },
  {
   "cell_type": "code",
   "execution_count": 4,
   "metadata": {},
   "outputs": [
    {
     "data": {
      "text/plain": [
       "{'status': 'success'}"
      ]
     },
     "execution_count": 4,
     "metadata": {},
     "output_type": "execute_result"
    }
   ],
   "source": [
    "response = session.post(base_url + 'login', data={'username':'test', 'password':'password'})\n",
    "json.loads(response.text)"
   ]
  },
  {
   "cell_type": "markdown",
   "metadata": {},
   "source": [
    "Getting username."
   ]
  },
  {
   "cell_type": "code",
   "execution_count": 5,
   "metadata": {},
   "outputs": [
    {
     "data": {
      "text/plain": [
       "'test'"
      ]
     },
     "execution_count": 5,
     "metadata": {},
     "output_type": "execute_result"
    }
   ],
   "source": [
    "response = session.get(base_url + 'retrieveUsername')\n",
    "response.text"
   ]
  },
  {
   "cell_type": "markdown",
   "metadata": {},
   "source": [
    "Getting user permissions"
   ]
  },
  {
   "cell_type": "code",
   "execution_count": 6,
   "metadata": {},
   "outputs": [
    {
     "data": {
      "text/plain": [
       "{'permissions': 'manager', 'status': 'success'}"
      ]
     },
     "execution_count": 6,
     "metadata": {},
     "output_type": "execute_result"
    }
   ],
   "source": [
    "response = session.get(base_url + 'permissions')\n",
    "json.loads(response.text)"
   ]
  },
  {
   "cell_type": "markdown",
   "metadata": {},
   "source": [
    "Trying to get all user data without permission."
   ]
  },
  {
   "cell_type": "code",
   "execution_count": 7,
   "metadata": {},
   "outputs": [
    {
     "data": {
      "text/plain": [
       "{'allEmails': ['admin@gmail.com', 'green@gmail.com', 'test@gmail.com'],\n",
       " 'allPermissions': ['admin', 'manager', 'manager'],\n",
       " 'allUserIds': ['1a21475f-2eb6-450b-8ca1-ae2ac3f8448d',\n",
       "  'f47c3791-19eb-4175-b268-d2705d3e3241',\n",
       "  '5d35c2bd-a1c1-4033-8a30-3a18fb97eb36'],\n",
       " 'allUserNames': ['admin', 'green', 'test'],\n",
       " 'status': 'success'}"
      ]
     },
     "execution_count": 7,
     "metadata": {},
     "output_type": "execute_result"
    }
   ],
   "source": [
    "response = session.get(base_url + 'users')\n",
    "json.loads(response.text)"
   ]
  },
  {
   "cell_type": "markdown",
   "metadata": {},
   "source": [
    "Logging out."
   ]
  },
  {
   "cell_type": "code",
   "execution_count": 8,
   "metadata": {},
   "outputs": [
    {
     "data": {
      "text/plain": [
       "{'status': 'success'}"
      ]
     },
     "execution_count": 8,
     "metadata": {},
     "output_type": "execute_result"
    }
   ],
   "source": [
    "response = session.post(base_url + 'logout')\n",
    "json.loads(response.text)"
   ]
  },
  {
   "cell_type": "markdown",
   "metadata": {},
   "source": [
    "Logging in with admin account."
   ]
  },
  {
   "cell_type": "code",
   "execution_count": 9,
   "metadata": {},
   "outputs": [
    {
     "data": {
      "text/plain": [
       "{'status': 'success'}"
      ]
     },
     "execution_count": 9,
     "metadata": {},
     "output_type": "execute_result"
    }
   ],
   "source": [
    "response = session.post(base_url + 'login', data={'username':'admin', 'password':'newpassword'})\n",
    "json.loads(response.text)"
   ]
  },
  {
   "cell_type": "markdown",
   "metadata": {},
   "source": [
    "Getting all user data as admin."
   ]
  },
  {
   "cell_type": "code",
   "execution_count": 10,
   "metadata": {},
   "outputs": [
    {
     "data": {
      "text/plain": [
       "{'allEmails': ['admin@gmail.com', 'green@gmail.com', 'test@gmail.com'],\n",
       " 'allPermissions': ['admin', 'manager', 'manager'],\n",
       " 'allUserIds': ['1a21475f-2eb6-450b-8ca1-ae2ac3f8448d',\n",
       "  'f47c3791-19eb-4175-b268-d2705d3e3241',\n",
       "  '5d35c2bd-a1c1-4033-8a30-3a18fb97eb36'],\n",
       " 'allUserNames': ['admin', 'green', 'test'],\n",
       " 'status': 'success'}"
      ]
     },
     "execution_count": 10,
     "metadata": {},
     "output_type": "execute_result"
    }
   ],
   "source": [
    "response = session.get(base_url + 'users')\n",
    "json.loads(response.text)"
   ]
  },
  {
   "cell_type": "markdown",
   "metadata": {},
   "source": [
    "Getting timezones for a user."
   ]
  },
  {
   "cell_type": "code",
   "execution_count": 11,
   "metadata": {},
   "outputs": [
    {
     "data": {
      "text/plain": [
       "{'status': 'success',\n",
       " 'userTimezones': [{'_id': '7f01584d-5c2a-49e5-a8d6-2d22577f91ba',\n",
       "   'name': 'Africa/Casablanca',\n",
       "   'userId': '5d35c2bd-a1c1-4033-8a30-3a18fb97eb36'}]}"
      ]
     },
     "execution_count": 11,
     "metadata": {},
     "output_type": "execute_result"
    }
   ],
   "source": [
    "user_id = '5d35c2bd-a1c1-4033-8a30-3a18fb97eb36'\n",
    "response = session.get(base_url + 'timezones/'  + user_id)\n",
    "json.loads(response.text)"
   ]
  },
  {
   "cell_type": "markdown",
   "metadata": {},
   "source": [
    "Adding an incorrent timezone for a user."
   ]
  },
  {
   "cell_type": "code",
   "execution_count": 12,
   "metadata": {},
   "outputs": [
    {
     "data": {
      "text/plain": [
       "{'error': 'Invalid timezone.', 'status': 'error'}"
      ]
     },
     "execution_count": 12,
     "metadata": {},
     "output_type": "execute_result"
    }
   ],
   "source": [
    "user_id = '5d35c2bd-a1c1-4033-8a30-3a18fb97eb36'\n",
    "timezone_name = 'Ohio'\n",
    "response = session.post(base_url + 'timezones', data = {'userID':user_id, 'timezoneName':timezone_name})\n",
    "json.loads(response.text)"
   ]
  },
  {
   "cell_type": "markdown",
   "metadata": {},
   "source": [
    "Getting valid timezones."
   ]
  },
  {
   "cell_type": "code",
   "execution_count": 13,
   "metadata": {},
   "outputs": [
    {
     "data": {
      "text/plain": [
       "{'status': 'success',\n",
       " 'timezoneList': ['Europe/Andorra',\n",
       "  'Asia/Dubai',\n",
       "  'Asia/Kabul',\n",
       "  'Europe/Tirane',\n",
       "  'Asia/Yerevan',\n",
       "  'Antarctica/Casey',\n",
       "  'Antarctica/Davis',\n",
       "  'Antarctica/DumontDUrville',\n",
       "  'Antarctica/Mawson',\n",
       "  'Antarctica/Palmer',\n",
       "  'Antarctica/Rothera',\n",
       "  'Antarctica/Syowa',\n",
       "  'Antarctica/Troll',\n",
       "  'Antarctica/Vostok',\n",
       "  'America/Argentina/Buenos_Aires',\n",
       "  'America/Argentina/Cordoba',\n",
       "  'America/Argentina/Salta',\n",
       "  'America/Argentina/Jujuy',\n",
       "  'America/Argentina/Tucuman',\n",
       "  'America/Argentina/Catamarca',\n",
       "  'America/Argentina/La_Rioja',\n",
       "  'America/Argentina/San_Juan',\n",
       "  'America/Argentina/Mendoza',\n",
       "  'America/Argentina/San_Luis',\n",
       "  'America/Argentina/Rio_Gallegos',\n",
       "  'America/Argentina/Ushuaia',\n",
       "  'Pacific/Pago_Pago',\n",
       "  'Europe/Vienna',\n",
       "  'Australia/Lord_Howe',\n",
       "  'Antarctica/Macquarie',\n",
       "  'Australia/Hobart',\n",
       "  'Australia/Currie',\n",
       "  'Australia/Melbourne',\n",
       "  'Australia/Sydney',\n",
       "  'Australia/Broken_Hill',\n",
       "  'Australia/Brisbane',\n",
       "  'Australia/Lindeman',\n",
       "  'Australia/Adelaide',\n",
       "  'Australia/Darwin',\n",
       "  'Australia/Perth',\n",
       "  'Australia/Eucla',\n",
       "  'Asia/Baku',\n",
       "  'America/Barbados',\n",
       "  'Asia/Dhaka',\n",
       "  'Europe/Brussels',\n",
       "  'Europe/Sofia',\n",
       "  'Atlantic/Bermuda',\n",
       "  'Asia/Brunei',\n",
       "  'America/La_Paz',\n",
       "  'America/Noronha',\n",
       "  'America/Belem',\n",
       "  'America/Fortaleza',\n",
       "  'America/Recife',\n",
       "  'America/Araguaina',\n",
       "  'America/Maceio',\n",
       "  'America/Bahia',\n",
       "  'America/Sao_Paulo',\n",
       "  'America/Campo_Grande',\n",
       "  'America/Cuiaba',\n",
       "  'America/Santarem',\n",
       "  'America/Porto_Velho',\n",
       "  'America/Boa_Vista',\n",
       "  'America/Manaus',\n",
       "  'America/Eirunepe',\n",
       "  'America/Rio_Branco',\n",
       "  'America/Nassau',\n",
       "  'Asia/Thimphu',\n",
       "  'Europe/Minsk',\n",
       "  'America/Belize',\n",
       "  'America/St_Johns',\n",
       "  'America/Halifax',\n",
       "  'America/Glace_Bay',\n",
       "  'America/Moncton',\n",
       "  'America/Goose_Bay',\n",
       "  'America/Blanc-Sablon',\n",
       "  'America/Toronto',\n",
       "  'America/Nipigon',\n",
       "  'America/Thunder_Bay',\n",
       "  'America/Iqaluit',\n",
       "  'America/Pangnirtung',\n",
       "  'America/Atikokan',\n",
       "  'America/Winnipeg',\n",
       "  'America/Rainy_River',\n",
       "  'America/Resolute',\n",
       "  'America/Rankin_Inlet',\n",
       "  'America/Regina',\n",
       "  'America/Swift_Current',\n",
       "  'America/Edmonton',\n",
       "  'America/Cambridge_Bay',\n",
       "  'America/Yellowknife',\n",
       "  'America/Inuvik',\n",
       "  'America/Creston',\n",
       "  'America/Dawson_Creek',\n",
       "  'America/Fort_Nelson',\n",
       "  'America/Vancouver',\n",
       "  'America/Whitehorse',\n",
       "  'America/Dawson',\n",
       "  'Indian/Cocos',\n",
       "  'Europe/Zurich',\n",
       "  'Africa/Abidjan',\n",
       "  'Pacific/Rarotonga',\n",
       "  'America/Santiago',\n",
       "  'America/Punta_Arenas',\n",
       "  'Pacific/Easter',\n",
       "  'Asia/Shanghai',\n",
       "  'Asia/Urumqi',\n",
       "  'America/Bogota',\n",
       "  'America/Costa_Rica',\n",
       "  'America/Havana',\n",
       "  'Atlantic/Cape_Verde',\n",
       "  'America/Curacao',\n",
       "  'Indian/Christmas',\n",
       "  'Asia/Nicosia',\n",
       "  'Asia/Famagusta',\n",
       "  'Europe/Prague',\n",
       "  'Europe/Berlin',\n",
       "  'Europe/Copenhagen',\n",
       "  'America/Santo_Domingo',\n",
       "  'Africa/Algiers',\n",
       "  'America/Guayaquil',\n",
       "  'Pacific/Galapagos',\n",
       "  'Europe/Tallinn',\n",
       "  'Africa/Cairo',\n",
       "  'Africa/El_Aaiun',\n",
       "  'Europe/Madrid',\n",
       "  'Africa/Ceuta',\n",
       "  'Atlantic/Canary',\n",
       "  'Europe/Helsinki',\n",
       "  'Pacific/Fiji',\n",
       "  'Atlantic/Stanley',\n",
       "  'Pacific/Chuuk',\n",
       "  'Pacific/Pohnpei',\n",
       "  'Pacific/Kosrae',\n",
       "  'Atlantic/Faroe',\n",
       "  'Europe/Paris',\n",
       "  'Europe/London',\n",
       "  'Asia/Tbilisi',\n",
       "  'America/Cayenne',\n",
       "  'Africa/Accra',\n",
       "  'Europe/Gibraltar',\n",
       "  'America/Godthab',\n",
       "  'America/Danmarkshavn',\n",
       "  'America/Scoresbysund',\n",
       "  'America/Thule',\n",
       "  'Europe/Athens',\n",
       "  'Atlantic/South_Georgia',\n",
       "  'America/Guatemala',\n",
       "  'Pacific/Guam',\n",
       "  'Africa/Bissau',\n",
       "  'America/Guyana',\n",
       "  'Asia/Hong_Kong',\n",
       "  'America/Tegucigalpa',\n",
       "  'America/Port-au-Prince',\n",
       "  'Europe/Budapest',\n",
       "  'Asia/Jakarta',\n",
       "  'Asia/Pontianak',\n",
       "  'Asia/Makassar',\n",
       "  'Asia/Jayapura',\n",
       "  'Europe/Dublin',\n",
       "  'Asia/Jerusalem',\n",
       "  'Asia/Kolkata',\n",
       "  'Indian/Chagos',\n",
       "  'Asia/Baghdad',\n",
       "  'Asia/Tehran',\n",
       "  'Atlantic/Reykjavik',\n",
       "  'Europe/Rome',\n",
       "  'America/Jamaica',\n",
       "  'Asia/Amman',\n",
       "  'Asia/Tokyo',\n",
       "  'Africa/Nairobi',\n",
       "  'Asia/Bishkek',\n",
       "  'Pacific/Tarawa',\n",
       "  'Pacific/Enderbury',\n",
       "  'Pacific/Kiritimati',\n",
       "  'Asia/Pyongyang',\n",
       "  'Asia/Seoul',\n",
       "  'Asia/Almaty',\n",
       "  'Asia/Qyzylorda',\n",
       "  'Asia/Qostanay',\n",
       "  'Asia/Aqtobe',\n",
       "  'Asia/Aqtau',\n",
       "  'Asia/Atyrau',\n",
       "  'Asia/Oral',\n",
       "  'Asia/Beirut',\n",
       "  'Asia/Colombo',\n",
       "  'Africa/Monrovia',\n",
       "  'Europe/Vilnius',\n",
       "  'Europe/Luxembourg',\n",
       "  'Europe/Riga',\n",
       "  'Africa/Tripoli',\n",
       "  'Africa/Casablanca',\n",
       "  'Europe/Monaco',\n",
       "  'Europe/Chisinau',\n",
       "  'Pacific/Majuro',\n",
       "  'Pacific/Kwajalein',\n",
       "  'Asia/Yangon',\n",
       "  'Asia/Ulaanbaatar',\n",
       "  'Asia/Hovd',\n",
       "  'Asia/Choibalsan',\n",
       "  'Asia/Macau',\n",
       "  'America/Martinique',\n",
       "  'Europe/Malta',\n",
       "  'Indian/Mauritius',\n",
       "  'Indian/Maldives',\n",
       "  'America/Mexico_City',\n",
       "  'America/Cancun',\n",
       "  'America/Merida',\n",
       "  'America/Monterrey',\n",
       "  'America/Matamoros',\n",
       "  'America/Mazatlan',\n",
       "  'America/Chihuahua',\n",
       "  'America/Ojinaga',\n",
       "  'America/Hermosillo',\n",
       "  'America/Tijuana',\n",
       "  'America/Bahia_Banderas',\n",
       "  'Asia/Kuala_Lumpur',\n",
       "  'Asia/Kuching',\n",
       "  'Africa/Maputo',\n",
       "  'Africa/Windhoek',\n",
       "  'Pacific/Noumea',\n",
       "  'Pacific/Norfolk',\n",
       "  'Africa/Lagos',\n",
       "  'America/Managua',\n",
       "  'Europe/Amsterdam',\n",
       "  'Europe/Oslo',\n",
       "  'Asia/Kathmandu',\n",
       "  'Pacific/Nauru',\n",
       "  'Pacific/Niue',\n",
       "  'Pacific/Auckland',\n",
       "  'Pacific/Chatham',\n",
       "  'America/Panama',\n",
       "  'America/Lima',\n",
       "  'Pacific/Tahiti',\n",
       "  'Pacific/Marquesas',\n",
       "  'Pacific/Gambier',\n",
       "  'Pacific/Port_Moresby',\n",
       "  'Pacific/Bougainville',\n",
       "  'Asia/Manila',\n",
       "  'Asia/Karachi',\n",
       "  'Europe/Warsaw',\n",
       "  'America/Miquelon',\n",
       "  'Pacific/Pitcairn',\n",
       "  'America/Puerto_Rico',\n",
       "  'Asia/Gaza',\n",
       "  'Asia/Hebron',\n",
       "  'Europe/Lisbon',\n",
       "  'Atlantic/Madeira',\n",
       "  'Atlantic/Azores',\n",
       "  'Pacific/Palau',\n",
       "  'America/Asuncion',\n",
       "  'Asia/Qatar',\n",
       "  'Indian/Reunion',\n",
       "  'Europe/Bucharest',\n",
       "  'Europe/Belgrade',\n",
       "  'Europe/Kaliningrad',\n",
       "  'Europe/Moscow',\n",
       "  'Europe/Simferopol',\n",
       "  'Europe/Kirov',\n",
       "  'Europe/Astrakhan',\n",
       "  'Europe/Volgograd',\n",
       "  'Europe/Saratov',\n",
       "  'Europe/Ulyanovsk',\n",
       "  'Europe/Samara',\n",
       "  'Asia/Yekaterinburg',\n",
       "  'Asia/Omsk',\n",
       "  'Asia/Novosibirsk',\n",
       "  'Asia/Barnaul',\n",
       "  'Asia/Tomsk',\n",
       "  'Asia/Novokuznetsk',\n",
       "  'Asia/Krasnoyarsk',\n",
       "  'Asia/Irkutsk',\n",
       "  'Asia/Chita',\n",
       "  'Asia/Yakutsk',\n",
       "  'Asia/Khandyga',\n",
       "  'Asia/Vladivostok',\n",
       "  'Asia/Ust-Nera',\n",
       "  'Asia/Magadan',\n",
       "  'Asia/Sakhalin',\n",
       "  'Asia/Srednekolymsk',\n",
       "  'Asia/Kamchatka',\n",
       "  'Asia/Anadyr',\n",
       "  'Asia/Riyadh',\n",
       "  'Pacific/Guadalcanal',\n",
       "  'Indian/Mahe',\n",
       "  'Africa/Khartoum',\n",
       "  'Europe/Stockholm',\n",
       "  'Asia/Singapore',\n",
       "  'America/Paramaribo',\n",
       "  'Africa/Juba',\n",
       "  'Africa/Sao_Tome',\n",
       "  'America/El_Salvador',\n",
       "  'Asia/Damascus',\n",
       "  'America/Grand_Turk',\n",
       "  'Africa/Ndjamena',\n",
       "  'Indian/Kerguelen',\n",
       "  'Asia/Bangkok',\n",
       "  'Asia/Dushanbe',\n",
       "  'Pacific/Fakaofo',\n",
       "  'Asia/Dili',\n",
       "  'Asia/Ashgabat',\n",
       "  'Africa/Tunis',\n",
       "  'Pacific/Tongatapu',\n",
       "  'Europe/Istanbul',\n",
       "  'America/Port_of_Spain',\n",
       "  'Pacific/Funafuti',\n",
       "  'Asia/Taipei',\n",
       "  'Europe/Kiev',\n",
       "  'Europe/Uzhgorod',\n",
       "  'Europe/Zaporozhye',\n",
       "  'Pacific/Wake',\n",
       "  'America/New_York',\n",
       "  'America/Detroit',\n",
       "  'America/Kentucky/Louisville',\n",
       "  'America/Kentucky/Monticello',\n",
       "  'America/Indiana/Indianapolis',\n",
       "  'America/Indiana/Vincennes',\n",
       "  'America/Indiana/Winamac',\n",
       "  'America/Indiana/Marengo',\n",
       "  'America/Indiana/Petersburg',\n",
       "  'America/Indiana/Vevay',\n",
       "  'America/Chicago',\n",
       "  'America/Indiana/Tell_City',\n",
       "  'America/Indiana/Knox',\n",
       "  'America/Menominee',\n",
       "  'America/North_Dakota/Center',\n",
       "  'America/North_Dakota/New_Salem',\n",
       "  'America/North_Dakota/Beulah',\n",
       "  'America/Denver',\n",
       "  'America/Boise',\n",
       "  'America/Phoenix',\n",
       "  'America/Los_Angeles',\n",
       "  'America/Anchorage',\n",
       "  'America/Juneau',\n",
       "  'America/Sitka',\n",
       "  'America/Metlakatla',\n",
       "  'America/Yakutat',\n",
       "  'America/Nome',\n",
       "  'America/Adak',\n",
       "  'Pacific/Honolulu',\n",
       "  'America/Montevideo',\n",
       "  'Asia/Samarkand',\n",
       "  'Asia/Tashkent',\n",
       "  'America/Caracas',\n",
       "  'Asia/Ho_Chi_Minh',\n",
       "  'Pacific/Efate',\n",
       "  'Pacific/Wallis',\n",
       "  'Pacific/Apia',\n",
       "  'Africa/Johannesburg']}"
      ]
     },
     "execution_count": 13,
     "metadata": {},
     "output_type": "execute_result"
    }
   ],
   "source": [
    "response = session.get(base_url + 'timezoneList')\n",
    "json.loads(response.text)"
   ]
  },
  {
   "cell_type": "markdown",
   "metadata": {},
   "source": [
    "Adding a valid timezone for a user."
   ]
  },
  {
   "cell_type": "code",
   "execution_count": 14,
   "metadata": {},
   "outputs": [
    {
     "data": {
      "text/plain": [
       "{'status': 'success', 'timezoneId': '876500aa-813c-45fd-85d1-f15b992d72d7'}"
      ]
     },
     "execution_count": 14,
     "metadata": {},
     "output_type": "execute_result"
    }
   ],
   "source": [
    "user_id = '5d35c2bd-a1c1-4033-8a30-3a18fb97eb36'\n",
    "timezone_name = 'America/Chicago'\n",
    "response = session.post(base_url + 'timezones', data = {'userId':user_id, 'timezoneName':timezone_name})\n",
    "json.loads(response.text)"
   ]
  },
  {
   "cell_type": "markdown",
   "metadata": {},
   "source": [
    "Checking for added timezone."
   ]
  },
  {
   "cell_type": "code",
   "execution_count": 15,
   "metadata": {},
   "outputs": [
    {
     "data": {
      "text/plain": [
       "{'status': 'success',\n",
       " 'userTimezones': [{'_id': '7f01584d-5c2a-49e5-a8d6-2d22577f91ba',\n",
       "   'name': 'Africa/Casablanca',\n",
       "   'userId': '5d35c2bd-a1c1-4033-8a30-3a18fb97eb36'},\n",
       "  {'_id': '876500aa-813c-45fd-85d1-f15b992d72d7',\n",
       "   'name': 'America/Chicago',\n",
       "   'userId': '5d35c2bd-a1c1-4033-8a30-3a18fb97eb36'}]}"
      ]
     },
     "execution_count": 15,
     "metadata": {},
     "output_type": "execute_result"
    }
   ],
   "source": [
    "user_id = '5d35c2bd-a1c1-4033-8a30-3a18fb97eb36'\n",
    "response = session.get(base_url + 'timezones/'  + user_id)\n",
    "json.loads(response.text)"
   ]
  },
  {
   "cell_type": "markdown",
   "metadata": {},
   "source": [
    "Deleting a timezone for a user."
   ]
  },
  {
   "cell_type": "code",
   "execution_count": 16,
   "metadata": {},
   "outputs": [
    {
     "data": {
      "text/plain": [
       "{'status': 'success'}"
      ]
     },
     "execution_count": 16,
     "metadata": {},
     "output_type": "execute_result"
    }
   ],
   "source": [
    "timezone_id = 'a78f7203-0359-4d20-88f1-8e13865f9f90'\n",
    "response = session.delete(base_url + 'timezones', data={'timezoneId':timezone_id})\n",
    "json.loads(response.text)"
   ]
  },
  {
   "cell_type": "markdown",
   "metadata": {},
   "source": [
    "Checking for deleted timezone."
   ]
  },
  {
   "cell_type": "code",
   "execution_count": 17,
   "metadata": {},
   "outputs": [
    {
     "data": {
      "text/plain": [
       "{'status': 'success',\n",
       " 'userTimezones': [{'_id': '7f01584d-5c2a-49e5-a8d6-2d22577f91ba',\n",
       "   'name': 'Africa/Casablanca',\n",
       "   'userId': '5d35c2bd-a1c1-4033-8a30-3a18fb97eb36'},\n",
       "  {'_id': '876500aa-813c-45fd-85d1-f15b992d72d7',\n",
       "   'name': 'America/Chicago',\n",
       "   'userId': '5d35c2bd-a1c1-4033-8a30-3a18fb97eb36'}]}"
      ]
     },
     "execution_count": 17,
     "metadata": {},
     "output_type": "execute_result"
    }
   ],
   "source": [
    "user_id = '5d35c2bd-a1c1-4033-8a30-3a18fb97eb36'\n",
    "response = session.get(base_url + 'timezones/'  + user_id)\n",
    "json.loads(response.text)"
   ]
  },
  {
   "cell_type": "markdown",
   "metadata": {},
   "source": [
    "Giving a user manager permissions."
   ]
  },
  {
   "cell_type": "code",
   "execution_count": 18,
   "metadata": {},
   "outputs": [
    {
     "data": {
      "text/plain": [
       "{'status': 'success'}"
      ]
     },
     "execution_count": 18,
     "metadata": {},
     "output_type": "execute_result"
    }
   ],
   "source": [
    "user_id = '5d35c2bd-a1c1-4033-8a30-3a18fb97eb36'\n",
    "response = session.post(base_url + 'editPermissions', data={'userId':user_id, \"permissions\":\"manager\"})\n",
    "json.loads(response.text)"
   ]
  },
  {
   "cell_type": "markdown",
   "metadata": {},
   "source": [
    "Checking for updated permissions."
   ]
  },
  {
   "cell_type": "code",
   "execution_count": 19,
   "metadata": {},
   "outputs": [
    {
     "data": {
      "text/plain": [
       "{'permissions': 'user', 'status': 'success'}"
      ]
     },
     "execution_count": 19,
     "metadata": {},
     "output_type": "execute_result"
    }
   ],
   "source": [
    "session.post(base_url + 'login', data={'username':'test', 'password':'password'})\n",
    "response = session.get(base_url + 'permissions')\n",
    "json.loads(response.text)"
   ]
  },
  {
   "cell_type": "code",
   "execution_count": null,
   "metadata": {},
   "outputs": [],
   "source": []
  }
 ],
 "metadata": {
  "kernelspec": {
   "display_name": "Python 3",
   "language": "python",
   "name": "python3"
  },
  "language_info": {
   "codemirror_mode": {
    "name": "ipython",
    "version": 3
   },
   "file_extension": ".py",
   "mimetype": "text/x-python",
   "name": "python",
   "nbconvert_exporter": "python",
   "pygments_lexer": "ipython3",
   "version": "3.5.6"
  }
 },
 "nbformat": 4,
 "nbformat_minor": 2
}
